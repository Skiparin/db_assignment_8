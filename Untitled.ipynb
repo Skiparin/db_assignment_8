{
 "cells": [
  {
   "cell_type": "code",
   "execution_count": 1,
   "metadata": {},
   "outputs": [],
   "source": [
    "%load_ext sql"
   ]
  },
  {
   "cell_type": "code",
   "execution_count": 2,
   "metadata": {},
   "outputs": [],
   "source": [
    "%matplotlib inline"
   ]
  },
  {
   "cell_type": "code",
   "execution_count": 3,
   "metadata": {},
   "outputs": [
    {
     "data": {
      "text/plain": [
       "'Connected: appdev@appdev'"
      ]
     },
     "execution_count": 3,
     "metadata": {},
     "output_type": "execute_result"
    }
   ],
   "source": [
    "%sql postgresql://appdev@data/appdev"
   ]
  },
  {
   "cell_type": "markdown",
   "metadata": {},
   "source": [
    "1... A"
   ]
  },
  {
   "cell_type": "code",
   "execution_count": 4,
   "metadata": {},
   "outputs": [
    {
     "name": "stdout",
     "output_type": "stream",
     "text": [
      "1 rows affected.\n"
     ]
    },
    {
     "data": {
      "text/html": [
       "<table>\n",
       "    <tr>\n",
       "        <th>geonameid</th>\n",
       "        <th>name</th>\n",
       "        <th>longitude</th>\n",
       "        <th>latitude</th>\n",
       "        <th>feature_class</th>\n",
       "        <th>feature_code</th>\n",
       "        <th>country_code</th>\n",
       "        <th>admin1_code</th>\n",
       "        <th>admin2_code</th>\n",
       "        <th>population</th>\n",
       "        <th>elevation</th>\n",
       "        <th>timezone</th>\n",
       "    </tr>\n",
       "    <tr>\n",
       "        <td>305104</td>\n",
       "        <td>Levant</td>\n",
       "        <td>36.0</td>\n",
       "        <td>34.0</td>\n",
       "        <td>L</td>\n",
       "        <td>RGN</td>\n",
       "        <td>None</td>\n",
       "        <td>None</td>\n",
       "        <td>None</td>\n",
       "        <td>44990000</td>\n",
       "        <td>None</td>\n",
       "        <td>Asia/Beirut</td>\n",
       "    </tr>\n",
       "</table>"
      ],
      "text/plain": [
       "[(305104, 'Levant', 36.0, 34.0, 'L', 'RGN', None, None, None, 44990000, None, 'Asia/Beirut')]"
      ]
     },
     "execution_count": 4,
     "metadata": {},
     "output_type": "execute_result"
    }
   ],
   "source": [
    "%%sql SELECT *\n",
    "FROM geonames ORDER BY population desc LIMIT 1;"
   ]
  },
  {
   "cell_type": "markdown",
   "metadata": {},
   "source": [
    "1... B"
   ]
  },
  {
   "cell_type": "code",
   "execution_count": 5,
   "metadata": {},
   "outputs": [
    {
     "name": "stdout",
     "output_type": "stream",
     "text": [
      "10 rows affected.\n"
     ]
    },
    {
     "data": {
      "text/html": [
       "<table>\n",
       "    <tr>\n",
       "        <th>distance</th>\n",
       "    </tr>\n",
       "    <tr>\n",
       "        <td>243.041567580299</td>\n",
       "    </tr>\n",
       "    <tr>\n",
       "        <td>226.392811281631</td>\n",
       "    </tr>\n",
       "    <tr>\n",
       "        <td>226.321369487677</td>\n",
       "    </tr>\n",
       "    <tr>\n",
       "        <td>224.32621893127</td>\n",
       "    </tr>\n",
       "    <tr>\n",
       "        <td>221.784518170228</td>\n",
       "    </tr>\n",
       "    <tr>\n",
       "        <td>221.778802715178</td>\n",
       "    </tr>\n",
       "    <tr>\n",
       "        <td>221.732030326899</td>\n",
       "    </tr>\n",
       "    <tr>\n",
       "        <td>221.675705901411</td>\n",
       "    </tr>\n",
       "    <tr>\n",
       "        <td>221.554254857319</td>\n",
       "    </tr>\n",
       "    <tr>\n",
       "        <td>221.550265350276</td>\n",
       "    </tr>\n",
       "</table>"
      ],
      "text/plain": [
       "[(243.041567580299,),\n",
       " (226.392811281631,),\n",
       " (226.321369487677,),\n",
       " (224.32621893127,),\n",
       " (221.784518170228,),\n",
       " (221.778802715178,),\n",
       " (221.732030326899,),\n",
       " (221.675705901411,),\n",
       " (221.554254857319,),\n",
       " (221.550265350276,)]"
      ]
     },
     "execution_count": 5,
     "metadata": {},
     "output_type": "execute_result"
    }
   ],
   "source": [
    "%%sql SELECT point(36, 34) <-> point(longitude,latitude) AS distance\n",
    "FROM geonames ORDER BY distance DESC LIMIT 10;"
   ]
  },
  {
   "cell_type": "markdown",
   "metadata": {},
   "source": [
    "1... C"
   ]
  },
  {
   "cell_type": "code",
   "execution_count": 6,
   "metadata": {},
   "outputs": [
    {
     "name": "stdout",
     "output_type": "stream",
     "text": [
      "Done.\n"
     ]
    },
    {
     "data": {
      "text/plain": [
       "[]"
      ]
     },
     "execution_count": 6,
     "metadata": {},
     "output_type": "execute_result"
    }
   ],
   "source": [
    "%%sql CREATE OR REPLACE FUNCTION public.geodistance(\n",
    "    alat double precision,\n",
    "    alng double precision,\n",
    "    blat double precision,\n",
    "    blng double precision\n",
    ")\n",
    "    RETURNS double precision AS\n",
    "    \n",
    "    $BODY$\n",
    "    SELECT asin(\n",
    "      sqrt(\n",
    "    sin(radians($3-$1)/2)^2 +\n",
    "    sin(radians($4-$2)/2)^2 *\n",
    "    cos(radians($1)) *\n",
    "    cos(radians($3))\n",
    "  )\n",
    ") * 7926.3352 AS distance;\n",
    "    \n",
    "    $BODY$\n",
    "    LANGUAGE sql IMMUTABLE\n",
    "    COST 100;"
   ]
  },
  {
   "cell_type": "code",
   "execution_count": 7,
   "metadata": {},
   "outputs": [
    {
     "name": "stdout",
     "output_type": "stream",
     "text": [
      "10 rows affected.\n"
     ]
    },
    {
     "data": {
      "text/html": [
       "<table>\n",
       "    <tr>\n",
       "        <th>geodistance</th>\n",
       "    </tr>\n",
       "    <tr>\n",
       "        <td>11605.6272671968</td>\n",
       "    </tr>\n",
       "    <tr>\n",
       "        <td>11603.3351072272</td>\n",
       "    </tr>\n",
       "    <tr>\n",
       "        <td>11583.0474048111</td>\n",
       "    </tr>\n",
       "    <tr>\n",
       "        <td>11263.9466814205</td>\n",
       "    </tr>\n",
       "    <tr>\n",
       "        <td>11178.3692001669</td>\n",
       "    </tr>\n",
       "    <tr>\n",
       "        <td>11175.0977221625</td>\n",
       "    </tr>\n",
       "    <tr>\n",
       "        <td>11171.8850726579</td>\n",
       "    </tr>\n",
       "    <tr>\n",
       "        <td>11168.4090550694</td>\n",
       "    </tr>\n",
       "    <tr>\n",
       "        <td>11166.1326287561</td>\n",
       "    </tr>\n",
       "    <tr>\n",
       "        <td>11164.0201976944</td>\n",
       "    </tr>\n",
       "</table>"
      ],
      "text/plain": [
       "[(11605.6272671968,),\n",
       " (11603.3351072272,),\n",
       " (11583.0474048111,),\n",
       " (11263.9466814205,),\n",
       " (11178.3692001669,),\n",
       " (11175.0977221625,),\n",
       " (11171.8850726579,),\n",
       " (11168.4090550694,),\n",
       " (11166.1326287561,),\n",
       " (11164.0201976944,)]"
      ]
     },
     "execution_count": 7,
     "metadata": {},
     "output_type": "execute_result"
    }
   ],
   "source": [
    "%%sql SELECT geodistance(36,34, latitude, longitude) AS geodistance\n",
    "FROM geonames ORDER BY geodistance DESC LIMIT 10;"
   ]
  },
  {
   "cell_type": "markdown",
   "metadata": {},
   "source": [
    "1... D\n",
    "\n",
    "I can't get plot to work, so i won't be using it. But will use plot instead."
   ]
  },
  {
   "cell_type": "code",
   "execution_count": 12,
   "metadata": {},
   "outputs": [
    {
     "name": "stdout",
     "output_type": "stream",
     "text": [
      "1000 rows affected.\n"
     ]
    }
   ],
   "source": [
    "result = %sql SELECT longitude, latitude FROM geonames ORDER BY population DESC LIMIT 1000;"
   ]
  },
  {
   "cell_type": "code",
   "execution_count": 14,
   "metadata": {},
   "outputs": [
    {
     "data": {
      "image/png": "[encoded data removed]",
      "text/plain": [
       "<matplotlib.figure.Figure at 0x7f3dc9096b00>"
      ]
     },
     "metadata": {},
     "output_type": "display_data"
    }
   ],
   "source": [
    "result.bar();"
   ]
  },
  {
   "cell_type": "markdown",
   "metadata": {},
   "source": [
    "2... A"
   ]
  },
  {
   "cell_type": "code",
   "execution_count": 16,
   "metadata": {},
   "outputs": [
    {
     "name": "stdout",
     "output_type": "stream",
     "text": [
      "10 rows affected.\n"
     ]
    },
    {
     "data": {
      "text/html": [
       "<table>\n",
       "    <tr>\n",
       "        <th>set</th>\n",
       "        <th>data</th>\n",
       "    </tr>\n",
       "    <tr>\n",
       "        <td>10E</td>\n",
       "        <td>{&#x27;id&#x27;: &#x27;4a7bf234af44e07d9a159d4d89e96ce320919917&#x27;, &#x27;cmc&#x27;: 6, &#x27;name&#x27;: &#x27;Beacon of Immortality&#x27;, &#x27;text&#x27;: &quot;Double target player&#x27;s life total. Shuffle Beacon of Immortality into its owner&#x27;s library.&quot;, &#x27;type&#x27;: &#x27;Instant&#x27;, &#x27;types&#x27;: [&#x27;Instant&#x27;], &#x27;artist&#x27;: &#x27;Rob Alexander&#x27;, &#x27;colors&#x27;: [&#x27;White&#x27;], &#x27;flavor&#x27;: &#x27;The cave floods with light. A thousand rays shine forth and meld into one.&#x27;, &#x27;layout&#x27;: &#x27;normal&#x27;, &#x27;number&#x27;: &#x27;10&#x27;, &#x27;rarity&#x27;: &#x27;Rare&#x27;, &#x27;manaCost&#x27;: &#x27;{5}{W}&#x27;, &#x27;imageName&#x27;: &#x27;beacon of immortality&#x27;, &#x27;mciNumber&#x27;: &#x27;10&#x27;, &#x27;multiverseid&#x27;: 130553, &#x27;colorIdentity&#x27;: [&#x27;W&#x27;]}</td>\n",
       "    </tr>\n",
       "    <tr>\n",
       "        <td>10E</td>\n",
       "        <td>{&#x27;id&#x27;: &#x27;9cea331c080c3bbc7987c6560f65e39e9d1ed34f&#x27;, &#x27;cmc&#x27;: 5, &#x27;name&#x27;: &#x27;Kavu Climber&#x27;, &#x27;text&#x27;: &#x27;When Kavu Climber enters the battlefield, draw a card.&#x27;, &#x27;type&#x27;: &#x27;Creature — Kavu&#x27;, &#x27;power&#x27;: &#x27;3&#x27;, &#x27;types&#x27;: [&#x27;Creature&#x27;], &#x27;artist&#x27;: &#x27;Rob Alexander&#x27;, &#x27;colors&#x27;: [&#x27;Green&#x27;], &#x27;flavor&#x27;: &#x27;&quot;There was a crack of branches, a rustle of leaves, then a tremendous roar. Our party had no chance as death descended from above.&quot;\\n—Taseen, elvish bard&#x27;, &#x27;layout&#x27;: &#x27;normal&#x27;, &#x27;number&#x27;: &#x27;273&#x27;, &#x27;rarity&#x27;: &#x27;Common&#x27;, &#x27;manaCost&#x27;: &#x27;{3}{G}{G}&#x27;, &#x27;subtypes&#x27;: [&#x27;Kavu&#x27;], &#x27;imageName&#x27;: &#x27;kavu climber&#x27;, &#x27;mciNumber&#x27;: &#x27;273&#x27;, &#x27;toughness&#x27;: &#x27;3&#x27;, &#x27;multiverseid&#x27;: 129511, &#x27;colorIdentity&#x27;: [&#x27;G&#x27;]}</td>\n",
       "    </tr>\n",
       "    <tr>\n",
       "        <td>10E</td>\n",
       "        <td>{&#x27;id&#x27;: &#x27;28cc7c79cca8939fd9661f7abfc6ca453715b75e&#x27;, &#x27;cmc&#x27;: 0, &#x27;name&#x27;: &#x27;Llanowar Wastes&#x27;, &#x27;text&#x27;: &#x27;{T}: Add {C} to your mana pool.\\n{T}: Add {B} or {G} to your mana pool. Llanowar Wastes deals 1 damage to you.&#x27;, &#x27;type&#x27;: &#x27;Land&#x27;, &#x27;types&#x27;: [&#x27;Land&#x27;], &#x27;artist&#x27;: &#x27;Rob Alexander&#x27;, &#x27;layout&#x27;: &#x27;normal&#x27;, &#x27;number&#x27;: &#x27;355&#x27;, &#x27;rarity&#x27;: &#x27;Rare&#x27;, &#x27;imageName&#x27;: &#x27;llanowar wastes&#x27;, &#x27;mciNumber&#x27;: &#x27;355&#x27;, &#x27;multiverseid&#x27;: 129627, &#x27;colorIdentity&#x27;: [&#x27;B&#x27;, &#x27;G&#x27;]}</td>\n",
       "    </tr>\n",
       "    <tr>\n",
       "        <td>10E</td>\n",
       "        <td>{&#x27;id&#x27;: &#x27;7a90b7ba6197f8774ed99ecf75ac9abb3e0c0f20&#x27;, &#x27;cmc&#x27;: 0, &#x27;name&#x27;: &#x27;Shivan Reef&#x27;, &#x27;text&#x27;: &#x27;{T}: Add {C} to your mana pool.\\n{T}: Add {U} or {R} to your mana pool. Shivan Reef deals 1 damage to you.&#x27;, &#x27;type&#x27;: &#x27;Land&#x27;, &#x27;types&#x27;: [&#x27;Land&#x27;], &#x27;artist&#x27;: &#x27;Rob Alexander&#x27;, &#x27;layout&#x27;: &#x27;normal&#x27;, &#x27;number&#x27;: &#x27;357&#x27;, &#x27;rarity&#x27;: &#x27;Rare&#x27;, &#x27;imageName&#x27;: &#x27;shivan reef&#x27;, &#x27;mciNumber&#x27;: &#x27;357&#x27;, &#x27;multiverseid&#x27;: 129731, &#x27;colorIdentity&#x27;: [&#x27;U&#x27;, &#x27;R&#x27;]}</td>\n",
       "    </tr>\n",
       "    <tr>\n",
       "        <td>10E</td>\n",
       "        <td>{&#x27;id&#x27;: &#x27;8d1035f151615c949d0645b70fe01d8ab4a3f796&#x27;, &#x27;cmc&#x27;: 0, &#x27;name&#x27;: &#x27;Sulfurous Springs&#x27;, &#x27;text&#x27;: &#x27;{T}: Add {C} to your mana pool.\\n{T}: Add {B} or {R} to your mana pool. Sulfurous Springs deals 1 damage to you.&#x27;, &#x27;type&#x27;: &#x27;Land&#x27;, &#x27;types&#x27;: [&#x27;Land&#x27;], &#x27;artist&#x27;: &#x27;Rob Alexander&#x27;, &#x27;layout&#x27;: &#x27;normal&#x27;, &#x27;number&#x27;: &#x27;359&#x27;, &#x27;rarity&#x27;: &#x27;Rare&#x27;, &#x27;imageName&#x27;: &#x27;sulfurous springs&#x27;, &#x27;mciNumber&#x27;: &#x27;359&#x27;, &#x27;multiverseid&#x27;: 129751, &#x27;colorIdentity&#x27;: [&#x27;B&#x27;, &#x27;R&#x27;]}</td>\n",
       "    </tr>\n",
       "    <tr>\n",
       "        <td>10E</td>\n",
       "        <td>{&#x27;id&#x27;: &#x27;c97103ab834aad9b3fb7d07c4fb563089f97fe87&#x27;, &#x27;cmc&#x27;: 0, &#x27;name&#x27;: &#x27;Treetop Village&#x27;, &#x27;text&#x27;: &quot;Treetop Village enters the battlefield tapped.\\n{T}: Add {G} to your mana pool.\\n{1}{G}: Treetop Village becomes a 3/3 green Ape creature with trample until end of turn. It&#x27;s still a land. (If it would assign enough damage to its blockers to destroy them, you may have it assign the rest of its damage to defending player or planeswalker.)&quot;, &#x27;type&#x27;: &#x27;Land&#x27;, &#x27;types&#x27;: [&#x27;Land&#x27;], &#x27;artist&#x27;: &#x27;Rob Alexander&#x27;, &#x27;layout&#x27;: &#x27;normal&#x27;, &#x27;number&#x27;: &#x27;361&#x27;, &#x27;rarity&#x27;: &#x27;Uncommon&#x27;, &#x27;imageName&#x27;: &#x27;treetop village&#x27;, &#x27;mciNumber&#x27;: &#x27;361&#x27;, &#x27;multiverseid&#x27;: 106455, &#x27;colorIdentity&#x27;: [&#x27;G&#x27;]}</td>\n",
       "    </tr>\n",
       "    <tr>\n",
       "        <td>10E</td>\n",
       "        <td>{&#x27;id&#x27;: &#x27;24a47bf9cb4596246501294e7127bf74e082bc1d&#x27;, &#x27;cmc&#x27;: 0, &#x27;name&#x27;: &#x27;Plains&#x27;, &#x27;type&#x27;: &#x27;Basic Land — Plains&#x27;, &#x27;types&#x27;: [&#x27;Land&#x27;], &#x27;artist&#x27;: &#x27;Rob Alexander&#x27;, &#x27;layout&#x27;: &#x27;normal&#x27;, &#x27;number&#x27;: &#x27;364&#x27;, &#x27;rarity&#x27;: &#x27;Basic Land&#x27;, &#x27;subtypes&#x27;: [&#x27;Plains&#x27;], &#x27;imageName&#x27;: &#x27;plains1&#x27;, &#x27;watermark&#x27;: &#x27;White&#x27;, &#x27;supertypes&#x27;: [&#x27;Basic&#x27;], &#x27;variations&#x27;: [129682, 129683, 129681], &#x27;multiverseid&#x27;: 129680, &#x27;colorIdentity&#x27;: [&#x27;W&#x27;]}</td>\n",
       "    </tr>\n",
       "    <tr>\n",
       "        <td>10E</td>\n",
       "        <td>{&#x27;id&#x27;: &#x27;be5e30798e4f8b9b6f6e6a8dd2e30bf86bb04b94&#x27;, &#x27;cmc&#x27;: 0, &#x27;name&#x27;: &#x27;Forest&#x27;, &#x27;type&#x27;: &#x27;Basic Land — Forest&#x27;, &#x27;types&#x27;: [&#x27;Land&#x27;], &#x27;artist&#x27;: &#x27;Rob Alexander&#x27;, &#x27;layout&#x27;: &#x27;normal&#x27;, &#x27;number&#x27;: &#x27;382&#x27;, &#x27;rarity&#x27;: &#x27;Basic Land&#x27;, &#x27;subtypes&#x27;: [&#x27;Forest&#x27;], &#x27;imageName&#x27;: &#x27;forest3&#x27;, &#x27;watermark&#x27;: &#x27;Green&#x27;, &#x27;supertypes&#x27;: [&#x27;Basic&#x27;], &#x27;variations&#x27;: [129559, 129562, 129560], &#x27;multiverseid&#x27;: 129561, &#x27;colorIdentity&#x27;: [&#x27;G&#x27;]}</td>\n",
       "    </tr>\n",
       "    <tr>\n",
       "        <td>2ED</td>\n",
       "        <td>{&#x27;id&#x27;: &#x27;4c3d9f2b7086021880c8268f9def8f7548116d17&#x27;, &#x27;cmc&#x27;: 0, &#x27;name&#x27;: &#x27;Badlands&#x27;, &#x27;text&#x27;: &#x27;({T}: Add {B} or {R} to your mana pool.)&#x27;, &#x27;type&#x27;: &#x27;Land — Swamp Mountain&#x27;, &#x27;types&#x27;: [&#x27;Land&#x27;], &#x27;artist&#x27;: &#x27;Rob Alexander&#x27;, &#x27;layout&#x27;: &#x27;normal&#x27;, &#x27;rarity&#x27;: &#x27;Rare&#x27;, &#x27;reserved&#x27;: True, &#x27;subtypes&#x27;: [&#x27;Swamp&#x27;, &#x27;Mountain&#x27;], &#x27;imageName&#x27;: &#x27;badlands&#x27;, &#x27;mciNumber&#x27;: &#x27;278&#x27;, &#x27;multiverseid&#x27;: 878, &#x27;colorIdentity&#x27;: [&#x27;B&#x27;, &#x27;R&#x27;]}</td>\n",
       "    </tr>\n",
       "    <tr>\n",
       "        <td>2ED</td>\n",
       "        <td>{&#x27;id&#x27;: &#x27;3ad1eecb97909f6d45763cc87c07fa23cf574cf7&#x27;, &#x27;cmc&#x27;: 1, &#x27;name&#x27;: &#x27;Lance&#x27;, &#x27;text&#x27;: &#x27;Enchant creature\\nEnchanted creature has first strike.&#x27;, &#x27;type&#x27;: &#x27;Enchantment — Aura&#x27;, &#x27;types&#x27;: [&#x27;Enchantment&#x27;], &#x27;artist&#x27;: &#x27;Rob Alexander&#x27;, &#x27;colors&#x27;: [&#x27;White&#x27;], &#x27;layout&#x27;: &#x27;normal&#x27;, &#x27;rarity&#x27;: &#x27;Uncommon&#x27;, &#x27;manaCost&#x27;: &#x27;{W}&#x27;, &#x27;subtypes&#x27;: [&#x27;Aura&#x27;], &#x27;imageName&#x27;: &#x27;lance&#x27;, &#x27;mciNumber&#x27;: &#x27;212&#x27;, &#x27;multiverseid&#x27;: 856, &#x27;colorIdentity&#x27;: [&#x27;W&#x27;]}</td>\n",
       "    </tr>\n",
       "</table>"
      ],
      "text/plain": [
       "[('10E', {'id': '4a7bf234af44e07d9a159d4d89e96ce320919917', 'cmc': 6, 'name': 'Beacon of Immortality', 'text': \"Double target player's life total. Shuffle Beac ... (253 characters truncated) ... '10', 'rarity': 'Rare', 'manaCost': '{5}{W}', 'imageName': 'beacon of immortality', 'mciNumber': '10', 'multiverseid': 130553, 'colorIdentity': ['W']}),\n",
       " ('10E', {'id': '9cea331c080c3bbc7987c6560f65e39e9d1ed34f', 'cmc': 5, 'name': 'Kavu Climber', 'text': 'When Kavu Climber enters the battlefield, draw a card.', ... (348 characters truncated) ...  '{3}{G}{G}', 'subtypes': ['Kavu'], 'imageName': 'kavu climber', 'mciNumber': '273', 'toughness': '3', 'multiverseid': 129511, 'colorIdentity': ['G']}),\n",
       " ('10E', {'id': '28cc7c79cca8939fd9661f7abfc6ca453715b75e', 'cmc': 0, 'name': 'Llanowar Wastes', 'text': '{T}: Add {C} to your mana pool.\\n{T}: Add {B} or {G}  ... (131 characters truncated) ...  'normal', 'number': '355', 'rarity': 'Rare', 'imageName': 'llanowar wastes', 'mciNumber': '355', 'multiverseid': 129627, 'colorIdentity': ['B', 'G']}),\n",
       " ('10E', {'id': '7a90b7ba6197f8774ed99ecf75ac9abb3e0c0f20', 'cmc': 0, 'name': 'Shivan Reef', 'text': '{T}: Add {C} to your mana pool.\\n{T}: Add {U} or {R} to y ... (119 characters truncated) ... ut': 'normal', 'number': '357', 'rarity': 'Rare', 'imageName': 'shivan reef', 'mciNumber': '357', 'multiverseid': 129731, 'colorIdentity': ['U', 'R']}),\n",
       " ('10E', {'id': '8d1035f151615c949d0645b70fe01d8ab4a3f796', 'cmc': 0, 'name': 'Sulfurous Springs', 'text': '{T}: Add {C} to your mana pool.\\n{T}: Add {B} or {R ... (137 characters truncated) ... normal', 'number': '359', 'rarity': 'Rare', 'imageName': 'sulfurous springs', 'mciNumber': '359', 'multiverseid': 129751, 'colorIdentity': ['B', 'R']}),\n",
       " ('10E', {'id': 'c97103ab834aad9b3fb7d07c4fb563089f97fe87', 'cmc': 0, 'name': 'Treetop Village', 'text': \"Treetop Village enters the battlefield tapped.\\n{T}:  ... (359 characters truncated) ... : 'normal', 'number': '361', 'rarity': 'Uncommon', 'imageName': 'treetop village', 'mciNumber': '361', 'multiverseid': 106455, 'colorIdentity': ['G']}),\n",
       " ('10E', {'id': '24a47bf9cb4596246501294e7127bf74e082bc1d', 'cmc': 0, 'name': 'Plains', 'type': 'Basic Land — Plains', 'types': ['Land'], 'artist': 'Rob Alexan ... (99 characters truncated) ... me': 'plains1', 'watermark': 'White', 'supertypes': ['Basic'], 'variations': [129682, 129683, 129681], 'multiverseid': 129680, 'colorIdentity': ['W']}),\n",
       " ('10E', {'id': 'be5e30798e4f8b9b6f6e6a8dd2e30bf86bb04b94', 'cmc': 0, 'name': 'Forest', 'type': 'Basic Land — Forest', 'types': ['Land'], 'artist': 'Rob Alexan ... (99 characters truncated) ... me': 'forest3', 'watermark': 'Green', 'supertypes': ['Basic'], 'variations': [129559, 129562, 129560], 'multiverseid': 129561, 'colorIdentity': ['G']}),\n",
       " ('2ED', {'id': '4c3d9f2b7086021880c8268f9def8f7548116d17', 'cmc': 0, 'name': 'Badlands', 'text': '({T}: Add {B} or {R} to your mana pool.)', 'type': 'Land — S ... (97 characters truncated) ... ', 'reserved': True, 'subtypes': ['Swamp', 'Mountain'], 'imageName': 'badlands', 'mciNumber': '278', 'multiverseid': 878, 'colorIdentity': ['B', 'R']}),\n",
       " ('2ED', {'id': '3ad1eecb97909f6d45763cc87c07fa23cf574cf7', 'cmc': 1, 'name': 'Lance', 'text': 'Enchant creature\\nEnchanted creature has first strike.', 'type' ... (117 characters truncated) ...  'rarity': 'Uncommon', 'manaCost': '{W}', 'subtypes': ['Aura'], 'imageName': 'lance', 'mciNumber': '212', 'multiverseid': 856, 'colorIdentity': ['W']})]"
      ]
     },
     "execution_count": 16,
     "metadata": {},
     "output_type": "execute_result"
    }
   ],
   "source": [
    "%sql SELECT * FROM cards WHERE data @> '{\"artist\":\"Rob Alexander\"}' LIMIT 10;"
   ]
  },
  {
   "cell_type": "markdown",
   "metadata": {},
   "source": [
    "2... b"
   ]
  },
  {
   "cell_type": "code",
   "execution_count": 17,
   "metadata": {},
   "outputs": [
    {
     "name": "stdout",
     "output_type": "stream",
     "text": [
      "10 rows affected.\n"
     ]
    },
    {
     "data": {
      "text/html": [
       "<table>\n",
       "    <tr>\n",
       "        <th>set</th>\n",
       "        <th>data</th>\n",
       "    </tr>\n",
       "    <tr>\n",
       "        <td>10E</td>\n",
       "        <td>{&#x27;id&#x27;: &#x27;ab1ab474019e4e76c66e2b524d354cb7c3212616&#x27;, &#x27;cmc&#x27;: 7, &#x27;name&#x27;: &quot;Ancestor&#x27;s Chosen&quot;, &#x27;text&#x27;: &quot;First strike (This creature deals combat damage before creatures without first strike.)\\nWhen Ancestor&#x27;s Chosen enters the battlefield, you gain 1 life for each card in your graveyard.&quot;, &#x27;type&#x27;: &#x27;Creature — Human Cleric&#x27;, &#x27;power&#x27;: &#x27;4&#x27;, &#x27;types&#x27;: [&#x27;Creature&#x27;], &#x27;artist&#x27;: &#x27;Pete Venters&#x27;, &#x27;colors&#x27;: [&#x27;White&#x27;], &#x27;flavor&#x27;: &#x27;&quot;The will of all, by my hand done.&quot;&#x27;, &#x27;layout&#x27;: &#x27;normal&#x27;, &#x27;number&#x27;: &#x27;1&#x27;, &#x27;rarity&#x27;: &#x27;Uncommon&#x27;, &#x27;manaCost&#x27;: &#x27;{5}{W}{W}&#x27;, &#x27;subtypes&#x27;: [&#x27;Human&#x27;, &#x27;Cleric&#x27;], &#x27;imageName&#x27;: &quot;ancestor&#x27;s chosen&quot;, &#x27;mciNumber&#x27;: &#x27;1&#x27;, &#x27;toughness&#x27;: &#x27;4&#x27;, &#x27;multiverseid&#x27;: 130550, &#x27;colorIdentity&#x27;: [&#x27;W&#x27;]}</td>\n",
       "    </tr>\n",
       "    <tr>\n",
       "        <td>10E</td>\n",
       "        <td>{&#x27;id&#x27;: &#x27;d3488c0a916bd922856473155a8b49ec23fc2217&#x27;, &#x27;cmc&#x27;: 4, &#x27;name&#x27;: &#x27;Ballista Squad&#x27;, &#x27;text&#x27;: &#x27;{X}{W}, {T}: Ballista Squad deals X damage to target attacking or blocking creature.&#x27;, &#x27;type&#x27;: &#x27;Creature — Human Rebel&#x27;, &#x27;power&#x27;: &#x27;2&#x27;, &#x27;types&#x27;: [&#x27;Creature&#x27;], &#x27;artist&#x27;: &#x27;Matthew D. Wilson&#x27;, &#x27;colors&#x27;: [&#x27;White&#x27;], &#x27;flavor&#x27;: &#x27;The perfect antidote for a tightly packed formation.&#x27;, &#x27;layout&#x27;: &#x27;normal&#x27;, &#x27;number&#x27;: &#x27;8&#x27;, &#x27;rarity&#x27;: &#x27;Uncommon&#x27;, &#x27;manaCost&#x27;: &#x27;{3}{W}&#x27;, &#x27;subtypes&#x27;: [&#x27;Human&#x27;, &#x27;Rebel&#x27;], &#x27;imageName&#x27;: &#x27;ballista squad&#x27;, &#x27;mciNumber&#x27;: &#x27;8&#x27;, &#x27;toughness&#x27;: &#x27;2&#x27;, &#x27;multiverseid&#x27;: 129477, &#x27;colorIdentity&#x27;: [&#x27;W&#x27;]}</td>\n",
       "    </tr>\n",
       "    <tr>\n",
       "        <td>10E</td>\n",
       "        <td>{&#x27;id&#x27;: &#x27;29c46fca29e5de01dba3bbf05393325bc9132735&#x27;, &#x27;cmc&#x27;: 3, &#x27;name&#x27;: &#x27;Benalish Knight&#x27;, &#x27;text&#x27;: &#x27;Flash (You may cast this spell any time you could cast an instant.)\\nFirst strike (This creature deals combat damage before creatures without first strike.)&#x27;, &#x27;type&#x27;: &#x27;Creature — Human Knight&#x27;, &#x27;power&#x27;: &#x27;2&#x27;, &#x27;types&#x27;: [&#x27;Creature&#x27;], &#x27;artist&#x27;: &#x27;Zoltan Boros &amp; Gabor Szikszai&#x27;, &#x27;colors&#x27;: [&#x27;White&#x27;], &#x27;flavor&#x27;: &#x27;&quot;We called them \\&#x27;armored lightning.\\&#x27;&quot;\\n—Gerrard of the Weatherlight&#x27;, &#x27;layout&#x27;: &#x27;normal&#x27;, &#x27;number&#x27;: &#x27;11&#x27;, &#x27;rarity&#x27;: &#x27;Common&#x27;, &#x27;manaCost&#x27;: &#x27;{2}{W}&#x27;, &#x27;subtypes&#x27;: [&#x27;Human&#x27;, &#x27;Knight&#x27;], &#x27;imageName&#x27;: &#x27;benalish knight&#x27;, &#x27;mciNumber&#x27;: &#x27;11&#x27;, &#x27;toughness&#x27;: &#x27;2&#x27;, &#x27;multiverseid&#x27;: 136279, &#x27;colorIdentity&#x27;: [&#x27;W&#x27;]}</td>\n",
       "    </tr>\n",
       "    <tr>\n",
       "        <td>10E</td>\n",
       "        <td>{&#x27;id&#x27;: &#x27;e8b8dea65daf4e9070cce5de62bdbea0bf36d47c&#x27;, &#x27;cmc&#x27;: 4, &#x27;name&#x27;: &#x27;Cho-Manno, Revolutionary&#x27;, &#x27;text&#x27;: &#x27;Prevent all damage that would be dealt to Cho-Manno, Revolutionary.&#x27;, &#x27;type&#x27;: &#x27;Legendary Creature — Human Rebel&#x27;, &#x27;power&#x27;: &#x27;2&#x27;, &#x27;types&#x27;: [&#x27;Creature&#x27;], &#x27;artist&#x27;: &#x27;Steven Belledin&#x27;, &#x27;colors&#x27;: [&#x27;White&#x27;], &#x27;flavor&#x27;: &#x27;&quot;Mercadia\\&#x27;s masks can no longer hide the truth. Our day has come at last.&quot;&#x27;, &#x27;layout&#x27;: &#x27;normal&#x27;, &#x27;number&#x27;: &#x27;12&#x27;, &#x27;rarity&#x27;: &#x27;Rare&#x27;, &#x27;manaCost&#x27;: &#x27;{2}{W}{W}&#x27;, &#x27;subtypes&#x27;: [&#x27;Human&#x27;, &#x27;Rebel&#x27;], &#x27;imageName&#x27;: &#x27;cho-manno, revolutionary&#x27;, &#x27;mciNumber&#x27;: &#x27;12&#x27;, &#x27;toughness&#x27;: &#x27;2&#x27;, &#x27;supertypes&#x27;: [&#x27;Legendary&#x27;], &#x27;multiverseid&#x27;: 130554, &#x27;colorIdentity&#x27;: [&#x27;W&#x27;]}</td>\n",
       "    </tr>\n",
       "    <tr>\n",
       "        <td>10E</td>\n",
       "        <td>{&#x27;id&#x27;: &#x27;80a6b907fc380ed97615e8abc0fe6071c4ceef67&#x27;, &#x27;cmc&#x27;: 3, &#x27;name&#x27;: &#x27;Field Marshal&#x27;, &#x27;text&#x27;: &#x27;Other Soldier creatures get +1/+1 and have first strike. (They deal combat damage before creatures without first strike.)&#x27;, &#x27;type&#x27;: &#x27;Creature — Human Soldier&#x27;, &#x27;power&#x27;: &#x27;2&#x27;, &#x27;types&#x27;: [&#x27;Creature&#x27;], &#x27;artist&#x27;: &#x27;Stephen Tappin&#x27;, &#x27;colors&#x27;: [&#x27;White&#x27;], &#x27;flavor&#x27;: &#x27;He is the only one who sees the patterns in the overlapping maps and conflicting reports.&#x27;, &#x27;layout&#x27;: &#x27;normal&#x27;, &#x27;number&#x27;: &#x27;15&#x27;, &#x27;rarity&#x27;: &#x27;Rare&#x27;, &#x27;manaCost&#x27;: &#x27;{1}{W}{W}&#x27;, &#x27;subtypes&#x27;: [&#x27;Human&#x27;, &#x27;Soldier&#x27;], &#x27;imageName&#x27;: &#x27;field marshal&#x27;, &#x27;mciNumber&#x27;: &#x27;15&#x27;, &#x27;toughness&#x27;: &#x27;2&#x27;, &#x27;multiverseid&#x27;: 135258, &#x27;colorIdentity&#x27;: [&#x27;W&#x27;]}</td>\n",
       "    </tr>\n",
       "    <tr>\n",
       "        <td>10E</td>\n",
       "        <td>{&#x27;id&#x27;: &#x27;7879b835a2c3d6516515d03bd3a3894dceee1812&#x27;, &#x27;cmc&#x27;: 1, &#x27;name&#x27;: &#x27;Honor Guard&#x27;, &#x27;text&#x27;: &#x27;{W}: Honor Guard gets +0/+1 until end of turn.&#x27;, &#x27;type&#x27;: &#x27;Creature — Human Soldier&#x27;, &#x27;power&#x27;: &#x27;1&#x27;, &#x27;types&#x27;: [&#x27;Creature&#x27;], &#x27;artist&#x27;: &#x27;Dan Dos Santos&#x27;, &#x27;colors&#x27;: [&#x27;White&#x27;], &#x27;flavor&#x27;: &#x27;The strength of one. The courage of ten.&#x27;, &#x27;layout&#x27;: &#x27;normal&#x27;, &#x27;number&#x27;: &#x27;23&#x27;, &#x27;rarity&#x27;: &#x27;Common&#x27;, &#x27;manaCost&#x27;: &#x27;{W}&#x27;, &#x27;subtypes&#x27;: [&#x27;Human&#x27;, &#x27;Soldier&#x27;], &#x27;imageName&#x27;: &#x27;honor guard&#x27;, &#x27;mciNumber&#x27;: &#x27;23&#x27;, &#x27;toughness&#x27;: &#x27;1&#x27;, &#x27;multiverseid&#x27;: 129595, &#x27;colorIdentity&#x27;: [&#x27;W&#x27;]}</td>\n",
       "    </tr>\n",
       "    <tr>\n",
       "        <td>10E</td>\n",
       "        <td>{&#x27;id&#x27;: &#x27;55932565b6905650e67e784b7cf0df63990e9851&#x27;, &#x27;cmc&#x27;: 1, &#x27;name&#x27;: &#x27;Icatian Priest&#x27;, &#x27;text&#x27;: &#x27;{1}{W}{W}: Target creature gets +1/+1 until end of turn.&#x27;, &#x27;type&#x27;: &#x27;Creature — Human Cleric&#x27;, &#x27;power&#x27;: &#x27;1&#x27;, &#x27;types&#x27;: [&#x27;Creature&#x27;], &#x27;artist&#x27;: &#x27;Stephen Tappin&#x27;, &#x27;colors&#x27;: [&#x27;White&#x27;], &#x27;flavor&#x27;: &quot;Grelden knelt and felt the cool, dry hand of the priest on his brow. Hours later, when his wits returned, he was covered in his enemies&#x27; blood on the field of victory.&quot;, &#x27;layout&#x27;: &#x27;normal&#x27;, &#x27;number&#x27;: &#x27;24&#x27;, &#x27;rarity&#x27;: &#x27;Uncommon&#x27;, &#x27;manaCost&#x27;: &#x27;{W}&#x27;, &#x27;subtypes&#x27;: [&#x27;Human&#x27;, &#x27;Cleric&#x27;], &#x27;imageName&#x27;: &#x27;icatian priest&#x27;, &#x27;mciNumber&#x27;: &#x27;24&#x27;, &#x27;toughness&#x27;: &#x27;1&#x27;, &#x27;multiverseid&#x27;: 132123, &#x27;colorIdentity&#x27;: [&#x27;W&#x27;]}</td>\n",
       "    </tr>\n",
       "    <tr>\n",
       "        <td>10E</td>\n",
       "        <td>{&#x27;id&#x27;: &#x27;bc1e197c295bc12cc1b392a11b94782f1396b263&#x27;, &#x27;cmc&#x27;: 5, &#x27;name&#x27;: &#x27;Kjeldoran Royal Guard&#x27;, &#x27;text&#x27;: &#x27;{T}: All combat damage that would be dealt to you by unblocked creatures this turn is dealt to Kjeldoran Royal Guard instead.&#x27;, &#x27;type&#x27;: &#x27;Creature — Human Soldier&#x27;, &#x27;power&#x27;: &#x27;2&#x27;, &#x27;types&#x27;: [&#x27;Creature&#x27;], &#x27;artist&#x27;: &#x27;Carl Critchlow&#x27;, &#x27;colors&#x27;: [&#x27;White&#x27;], &#x27;flavor&#x27;: &quot;Upon the frozen tundra stand the Kjeldoran Royal Guard, pikes raised, with the king&#x27;s oath upon their lips.&quot;, &#x27;layout&#x27;: &#x27;normal&#x27;, &#x27;number&#x27;: &#x27;25&#x27;, &#x27;rarity&#x27;: &#x27;Rare&#x27;, &#x27;manaCost&#x27;: &#x27;{3}{W}{W}&#x27;, &#x27;subtypes&#x27;: [&#x27;Human&#x27;, &#x27;Soldier&#x27;], &#x27;imageName&#x27;: &#x27;kjeldoran royal guard&#x27;, &#x27;mciNumber&#x27;: &#x27;25&#x27;, &#x27;toughness&#x27;: &#x27;5&#x27;, &#x27;multiverseid&#x27;: 130551, &#x27;colorIdentity&#x27;: [&#x27;W&#x27;]}</td>\n",
       "    </tr>\n",
       "    <tr>\n",
       "        <td>10E</td>\n",
       "        <td>{&#x27;id&#x27;: &#x27;e25120395df829af067675f1582ae946543094e2&#x27;, &#x27;cmc&#x27;: 1, &#x27;name&#x27;: &#x27;Loyal Sentry&#x27;, &#x27;text&#x27;: &#x27;When Loyal Sentry blocks a creature, destroy that creature and Loyal Sentry.&#x27;, &#x27;type&#x27;: &#x27;Creature — Human Soldier&#x27;, &#x27;power&#x27;: &#x27;1&#x27;, &#x27;types&#x27;: [&#x27;Creature&#x27;], &#x27;artist&#x27;: &#x27;Michael Sutfin&#x27;, &#x27;colors&#x27;: [&#x27;White&#x27;], &#x27;flavor&#x27;: &#x27;&quot;My cause is simple: To stop you, at any cost, from ever seeing the inside of this keep.&quot;&#x27;, &#x27;layout&#x27;: &#x27;normal&#x27;, &#x27;number&#x27;: &#x27;27&#x27;, &#x27;rarity&#x27;: &#x27;Rare&#x27;, &#x27;manaCost&#x27;: &#x27;{W}&#x27;, &#x27;subtypes&#x27;: [&#x27;Human&#x27;, &#x27;Soldier&#x27;], &#x27;imageName&#x27;: &#x27;loyal sentry&#x27;, &#x27;mciNumber&#x27;: &#x27;27&#x27;, &#x27;toughness&#x27;: &#x27;1&#x27;, &#x27;multiverseid&#x27;: 129798, &#x27;colorIdentity&#x27;: [&#x27;W&#x27;]}</td>\n",
       "    </tr>\n",
       "    <tr>\n",
       "        <td>10E</td>\n",
       "        <td>{&#x27;id&#x27;: &#x27;f0bd8f9ffd23760499a421ca4cd2f211130542b8&#x27;, &#x27;cmc&#x27;: 3, &#x27;name&#x27;: &#x27;Nomad Mythmaker&#x27;, &#x27;text&#x27;: &#x27;{W}, {T}: Put target Aura card from a graveyard onto the battlefield under your control attached to a creature you control.&#x27;, &#x27;type&#x27;: &#x27;Creature — Human Nomad Cleric&#x27;, &#x27;power&#x27;: &#x27;2&#x27;, &#x27;types&#x27;: [&#x27;Creature&#x27;], &#x27;artist&#x27;: &#x27;Darrell Riche&#x27;, &#x27;colors&#x27;: [&#x27;White&#x27;], &#x27;flavor&#x27;: &#x27;On the wild steppes, history vanishes in the dust. Only the mythmakers remain to say what was, and is, and will be.&#x27;, &#x27;layout&#x27;: &#x27;normal&#x27;, &#x27;number&#x27;: &#x27;30&#x27;, &#x27;rarity&#x27;: &#x27;Rare&#x27;, &#x27;manaCost&#x27;: &#x27;{2}{W}&#x27;, &#x27;subtypes&#x27;: [&#x27;Human&#x27;, &#x27;Nomad&#x27;, &#x27;Cleric&#x27;], &#x27;imageName&#x27;: &#x27;nomad mythmaker&#x27;, &#x27;mciNumber&#x27;: &#x27;30&#x27;, &#x27;toughness&#x27;: &#x27;2&#x27;, &#x27;multiverseid&#x27;: 130547, &#x27;colorIdentity&#x27;: [&#x27;W&#x27;]}</td>\n",
       "    </tr>\n",
       "</table>"
      ],
      "text/plain": [
       "[('10E', {'id': 'ab1ab474019e4e76c66e2b524d354cb7c3212616', 'cmc': 7, 'name': \"Ancestor's Chosen\", 'text': \"First strike (This creature deals combat damage bef ... (386 characters truncated) ... 'subtypes': ['Human', 'Cleric'], 'imageName': \"ancestor's chosen\", 'mciNumber': '1', 'toughness': '4', 'multiverseid': 130550, 'colorIdentity': ['W']}),\n",
       " ('10E', {'id': 'd3488c0a916bd922856473155a8b49ec23fc2217', 'cmc': 4, 'name': 'Ballista Squad', 'text': '{X}{W}, {T}: Ballista Squad deals X damage to target a ... (297 characters truncated) ... }', 'subtypes': ['Human', 'Rebel'], 'imageName': 'ballista squad', 'mciNumber': '8', 'toughness': '2', 'multiverseid': 129477, 'colorIdentity': ['W']}),\n",
       " ('10E', {'id': '29c46fca29e5de01dba3bbf05393325bc9132735', 'cmc': 3, 'name': 'Benalish Knight', 'text': 'Flash (You may cast this spell any time you could cas ... (402 characters truncated) ...  'subtypes': ['Human', 'Knight'], 'imageName': 'benalish knight', 'mciNumber': '11', 'toughness': '2', 'multiverseid': 136279, 'colorIdentity': ['W']}),\n",
       " ('10E', {'id': 'e8b8dea65daf4e9070cce5de62bdbea0bf36d47c', 'cmc': 4, 'name': 'Cho-Manno, Revolutionary', 'text': 'Prevent all damage that would be dealt to Ch ... (361 characters truncated) ... geName': 'cho-manno, revolutionary', 'mciNumber': '12', 'toughness': '2', 'supertypes': ['Legendary'], 'multiverseid': 130554, 'colorIdentity': ['W']}),\n",
       " ('10E', {'id': '80a6b907fc380ed97615e8abc0fe6071c4ceef67', 'cmc': 3, 'name': 'Field Marshal', 'text': 'Other Soldier creatures get +1/+1 and have first strike ... (371 characters truncated) ... , 'subtypes': ['Human', 'Soldier'], 'imageName': 'field marshal', 'mciNumber': '15', 'toughness': '2', 'multiverseid': 135258, 'colorIdentity': ['W']}),\n",
       " ('10E', {'id': '7879b835a2c3d6516515d03bd3a3894dceee1812', 'cmc': 1, 'name': 'Honor Guard', 'text': '{W}: Honor Guard gets +0/+1 until end of turn.', 'type':  ... (239 characters truncated) ... }', 'subtypes': ['Human', 'Soldier'], 'imageName': 'honor guard', 'mciNumber': '23', 'toughness': '1', 'multiverseid': 129595, 'colorIdentity': ['W']}),\n",
       " ('10E', {'id': '55932565b6905650e67e784b7cf0df63990e9851', 'cmc': 1, 'name': 'Icatian Priest', 'text': '{1}{W}{W}: Target creature gets +1/+1 until end of tur ... (382 characters truncated) ... , 'subtypes': ['Human', 'Cleric'], 'imageName': 'icatian priest', 'mciNumber': '24', 'toughness': '1', 'multiverseid': 132123, 'colorIdentity': ['W']}),\n",
       " ('10E', {'id': 'bc1e197c295bc12cc1b392a11b94782f1396b263', 'cmc': 5, 'name': 'Kjeldoran Royal Guard', 'text': '{T}: All combat damage that would be dealt to y ... (409 characters truncated) ... pes': ['Human', 'Soldier'], 'imageName': 'kjeldoran royal guard', 'mciNumber': '25', 'toughness': '5', 'multiverseid': 130551, 'colorIdentity': ['W']}),\n",
       " ('10E', {'id': 'e25120395df829af067675f1582ae946543094e2', 'cmc': 1, 'name': 'Loyal Sentry', 'text': 'When Loyal Sentry blocks a creature, destroy that creatu ... (318 characters truncated) ... ', 'subtypes': ['Human', 'Soldier'], 'imageName': 'loyal sentry', 'mciNumber': '27', 'toughness': '1', 'multiverseid': 129798, 'colorIdentity': ['W']}),\n",
       " ('10E', {'id': 'f0bd8f9ffd23760499a421ca4cd2f211130542b8', 'cmc': 3, 'name': 'Nomad Mythmaker', 'text': '{W}, {T}: Put target Aura card from a graveyard onto  ... (412 characters truncated) ... s': ['Human', 'Nomad', 'Cleric'], 'imageName': 'nomad mythmaker', 'mciNumber': '30', 'toughness': '2', 'multiverseid': 130547, 'colorIdentity': ['W']})]"
      ]
     },
     "execution_count": 17,
     "metadata": {},
     "output_type": "execute_result"
    }
   ],
   "source": [
    "%sql SELECT * FROM cards WHERE data @> '{\"subtypes\": [\"Human\"]}' LIMIT 10;"
   ]
  },
  {
   "cell_type": "markdown",
   "metadata": {},
   "source": [
    "2... C"
   ]
  },
  {
   "cell_type": "code",
   "execution_count": 19,
   "metadata": {},
   "outputs": [
    {
     "name": "stdout",
     "output_type": "stream",
     "text": [
      "32 rows affected.\n"
     ]
    },
    {
     "data": {
      "text/html": [
       "<table>\n",
       "    <tr>\n",
       "        <th>colors</th>\n",
       "        <th>count</th>\n",
       "    </tr>\n",
       "    <tr>\n",
       "        <td>[&#x27;Green&#x27;]</td>\n",
       "        <td>4977</td>\n",
       "    </tr>\n",
       "    <tr>\n",
       "        <td>[&#x27;Black&#x27;]</td>\n",
       "        <td>4877</td>\n",
       "    </tr>\n",
       "    <tr>\n",
       "        <td>[&#x27;Red&#x27;]</td>\n",
       "        <td>4858</td>\n",
       "    </tr>\n",
       "    <tr>\n",
       "        <td>[&#x27;White&#x27;]</td>\n",
       "        <td>4755</td>\n",
       "    </tr>\n",
       "    <tr>\n",
       "        <td>[&#x27;Blue&#x27;]</td>\n",
       "        <td>4680</td>\n",
       "    </tr>\n",
       "    <tr>\n",
       "        <td>[&#x27;White&#x27;, &#x27;Green&#x27;]</td>\n",
       "        <td>276</td>\n",
       "    </tr>\n",
       "    <tr>\n",
       "        <td>[&#x27;Red&#x27;, &#x27;Green&#x27;]</td>\n",
       "        <td>273</td>\n",
       "    </tr>\n",
       "    <tr>\n",
       "        <td>[&#x27;Blue&#x27;, &#x27;Black&#x27;]</td>\n",
       "        <td>260</td>\n",
       "    </tr>\n",
       "    <tr>\n",
       "        <td>[&#x27;Black&#x27;, &#x27;Red&#x27;]</td>\n",
       "        <td>258</td>\n",
       "    </tr>\n",
       "    <tr>\n",
       "        <td>[&#x27;White&#x27;, &#x27;Blue&#x27;]</td>\n",
       "        <td>245</td>\n",
       "    </tr>\n",
       "    <tr>\n",
       "        <td>[&#x27;Black&#x27;, &#x27;Green&#x27;]</td>\n",
       "        <td>185</td>\n",
       "    </tr>\n",
       "    <tr>\n",
       "        <td>[&#x27;Blue&#x27;, &#x27;Red&#x27;]</td>\n",
       "        <td>182</td>\n",
       "    </tr>\n",
       "    <tr>\n",
       "        <td>[&#x27;White&#x27;, &#x27;Red&#x27;]</td>\n",
       "        <td>178</td>\n",
       "    </tr>\n",
       "    <tr>\n",
       "        <td>[&#x27;White&#x27;, &#x27;Black&#x27;]</td>\n",
       "        <td>174</td>\n",
       "    </tr>\n",
       "    <tr>\n",
       "        <td>[&#x27;Blue&#x27;, &#x27;Green&#x27;]</td>\n",
       "        <td>169</td>\n",
       "    </tr>\n",
       "    <tr>\n",
       "        <td>[&#x27;Blue&#x27;, &#x27;Black&#x27;, &#x27;Red&#x27;]</td>\n",
       "        <td>73</td>\n",
       "    </tr>\n",
       "    <tr>\n",
       "        <td>[&#x27;White&#x27;, &#x27;Blue&#x27;, &#x27;Black&#x27;]</td>\n",
       "        <td>57</td>\n",
       "    </tr>\n",
       "    <tr>\n",
       "        <td>[&#x27;White&#x27;, &#x27;Red&#x27;, &#x27;Green&#x27;]</td>\n",
       "        <td>54</td>\n",
       "    </tr>\n",
       "    <tr>\n",
       "        <td>[&#x27;White&#x27;, &#x27;Blue&#x27;, &#x27;Green&#x27;]</td>\n",
       "        <td>53</td>\n",
       "    </tr>\n",
       "    <tr>\n",
       "        <td>[&#x27;Black&#x27;, &#x27;Red&#x27;, &#x27;Green&#x27;]</td>\n",
       "        <td>52</td>\n",
       "    </tr>\n",
       "    <tr>\n",
       "        <td>[&#x27;White&#x27;, &#x27;Blue&#x27;, &#x27;Black&#x27;, &#x27;Red&#x27;, &#x27;Green&#x27;]</td>\n",
       "        <td>37</td>\n",
       "    </tr>\n",
       "    <tr>\n",
       "        <td>[&#x27;White&#x27;, &#x27;Black&#x27;, &#x27;Red&#x27;]</td>\n",
       "        <td>33</td>\n",
       "    </tr>\n",
       "    <tr>\n",
       "        <td>[&#x27;White&#x27;, &#x27;Black&#x27;, &#x27;Green&#x27;]</td>\n",
       "        <td>28</td>\n",
       "    </tr>\n",
       "    <tr>\n",
       "        <td>[&#x27;Blue&#x27;, &#x27;Red&#x27;, &#x27;Green&#x27;]</td>\n",
       "        <td>25</td>\n",
       "    </tr>\n",
       "    <tr>\n",
       "        <td>[&#x27;Blue&#x27;, &#x27;Black&#x27;, &#x27;Green&#x27;]</td>\n",
       "        <td>24</td>\n",
       "    </tr>\n",
       "    <tr>\n",
       "        <td>[&#x27;White&#x27;, &#x27;Blue&#x27;, &#x27;Red&#x27;]</td>\n",
       "        <td>22</td>\n",
       "    </tr>\n",
       "    <tr>\n",
       "        <td>[&#x27;Blue&#x27;, &#x27;Black&#x27;, &#x27;Red&#x27;, &#x27;Green&#x27;]</td>\n",
       "        <td>3</td>\n",
       "    </tr>\n",
       "    <tr>\n",
       "        <td>[&#x27;White&#x27;, &#x27;Blue&#x27;, &#x27;Black&#x27;, &#x27;Green&#x27;]</td>\n",
       "        <td>2</td>\n",
       "    </tr>\n",
       "    <tr>\n",
       "        <td>[&#x27;White&#x27;, &#x27;Black&#x27;, &#x27;Red&#x27;, &#x27;Green&#x27;]</td>\n",
       "        <td>2</td>\n",
       "    </tr>\n",
       "    <tr>\n",
       "        <td>[&#x27;White&#x27;, &#x27;Blue&#x27;, &#x27;Black&#x27;, &#x27;Red&#x27;]</td>\n",
       "        <td>2</td>\n",
       "    </tr>\n",
       "    <tr>\n",
       "        <td>[&#x27;White&#x27;, &#x27;Blue&#x27;, &#x27;Red&#x27;, &#x27;Green&#x27;]</td>\n",
       "        <td>2</td>\n",
       "    </tr>\n",
       "    <tr>\n",
       "        <td>None</td>\n",
       "        <td>0</td>\n",
       "    </tr>\n",
       "</table>"
      ],
      "text/plain": [
       "[(['Green'], 4977),\n",
       " (['Black'], 4877),\n",
       " (['Red'], 4858),\n",
       " (['White'], 4755),\n",
       " (['Blue'], 4680),\n",
       " (['White', 'Green'], 276),\n",
       " (['Red', 'Green'], 273),\n",
       " (['Blue', 'Black'], 260),\n",
       " (['Black', 'Red'], 258),\n",
       " (['White', 'Blue'], 245),\n",
       " (['Black', 'Green'], 185),\n",
       " (['Blue', 'Red'], 182),\n",
       " (['White', 'Red'], 178),\n",
       " (['White', 'Black'], 174),\n",
       " (['Blue', 'Green'], 169),\n",
       " (['Blue', 'Black', 'Red'], 73),\n",
       " (['White', 'Blue', 'Black'], 57),\n",
       " (['White', 'Red', 'Green'], 54),\n",
       " (['White', 'Blue', 'Green'], 53),\n",
       " (['Black', 'Red', 'Green'], 52),\n",
       " (['White', 'Blue', 'Black', 'Red', 'Green'], 37),\n",
       " (['White', 'Black', 'Red'], 33),\n",
       " (['White', 'Black', 'Green'], 28),\n",
       " (['Blue', 'Red', 'Green'], 25),\n",
       " (['Blue', 'Black', 'Green'], 24),\n",
       " (['White', 'Blue', 'Red'], 22),\n",
       " (['Blue', 'Black', 'Red', 'Green'], 3),\n",
       " (['White', 'Blue', 'Black', 'Green'], 2),\n",
       " (['White', 'Black', 'Red', 'Green'], 2),\n",
       " (['White', 'Blue', 'Black', 'Red'], 2),\n",
       " (['White', 'Blue', 'Red', 'Green'], 2),\n",
       " (None, 0)]"
      ]
     },
     "execution_count": 19,
     "metadata": {},
     "output_type": "execute_result"
    }
   ],
   "source": [
    "%%sql SELECT data -> 'colors' AS colors, COUNT(data -> 'colors')\n",
    "FROM cards GROUP BY data -> 'colors' ORDER BY count DESC;"
   ]
  },
  {
   "cell_type": "code",
   "execution_count": null,
   "metadata": {},
   "outputs": [],
   "source": []
  }
 ],
 "metadata": {
  "kernelspec": {
   "display_name": "Python 3",
   "language": "python",
   "name": "python3"
  },
  "language_info": {
   "codemirror_mode": {
    "name": "ipython",
    "version": 3
   },
   "file_extension": ".py",
   "mimetype": "text/x-python",
   "name": "python",
   "nbconvert_exporter": "python",
   "pygments_lexer": "ipython3",
   "version": "3.6.3"
  }
 },
 "nbformat": 4,
 "nbformat_minor": 2
}
